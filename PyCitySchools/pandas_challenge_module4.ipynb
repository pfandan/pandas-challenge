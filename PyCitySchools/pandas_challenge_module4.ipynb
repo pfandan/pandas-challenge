{
 "cells": [
  {
   "cell_type": "code",
   "execution_count": 9,
   "id": "75b1c851",
   "metadata": {},
   "outputs": [],
   "source": [
    "import pandas as pd\n"
   ]
  },
  {
   "cell_type": "code",
   "execution_count": 36,
   "id": "b9af06dc",
   "metadata": {},
   "outputs": [
    {
     "data": {
      "text/html": [
       "<div>\n",
       "<style scoped>\n",
       "    .dataframe tbody tr th:only-of-type {\n",
       "        vertical-align: middle;\n",
       "    }\n",
       "\n",
       "    .dataframe tbody tr th {\n",
       "        vertical-align: top;\n",
       "    }\n",
       "\n",
       "    .dataframe thead th {\n",
       "        text-align: right;\n",
       "    }\n",
       "</style>\n",
       "<table border=\"1\" class=\"dataframe\">\n",
       "  <thead>\n",
       "    <tr style=\"text-align: right;\">\n",
       "      <th></th>\n",
       "      <th>School ID</th>\n",
       "      <th>school_name</th>\n",
       "      <th>type</th>\n",
       "      <th>size</th>\n",
       "      <th>budget</th>\n",
       "    </tr>\n",
       "  </thead>\n",
       "  <tbody>\n",
       "    <tr>\n",
       "      <th>0</th>\n",
       "      <td>0</td>\n",
       "      <td>Huang High School</td>\n",
       "      <td>District</td>\n",
       "      <td>2917</td>\n",
       "      <td>1910635</td>\n",
       "    </tr>\n",
       "    <tr>\n",
       "      <th>1</th>\n",
       "      <td>1</td>\n",
       "      <td>Figueroa High School</td>\n",
       "      <td>District</td>\n",
       "      <td>2949</td>\n",
       "      <td>1884411</td>\n",
       "    </tr>\n",
       "    <tr>\n",
       "      <th>2</th>\n",
       "      <td>2</td>\n",
       "      <td>Shelton High School</td>\n",
       "      <td>Charter</td>\n",
       "      <td>1761</td>\n",
       "      <td>1056600</td>\n",
       "    </tr>\n",
       "    <tr>\n",
       "      <th>3</th>\n",
       "      <td>3</td>\n",
       "      <td>Hernandez High School</td>\n",
       "      <td>District</td>\n",
       "      <td>4635</td>\n",
       "      <td>3022020</td>\n",
       "    </tr>\n",
       "    <tr>\n",
       "      <th>4</th>\n",
       "      <td>4</td>\n",
       "      <td>Griffin High School</td>\n",
       "      <td>Charter</td>\n",
       "      <td>1468</td>\n",
       "      <td>917500</td>\n",
       "    </tr>\n",
       "  </tbody>\n",
       "</table>\n",
       "</div>"
      ],
      "text/plain": [
       "   School ID            school_name      type  size   budget\n",
       "0          0      Huang High School  District  2917  1910635\n",
       "1          1   Figueroa High School  District  2949  1884411\n",
       "2          2    Shelton High School   Charter  1761  1056600\n",
       "3          3  Hernandez High School  District  4635  3022020\n",
       "4          4    Griffin High School   Charter  1468   917500"
      ]
     },
     "execution_count": 36,
     "metadata": {},
     "output_type": "execute_result"
    }
   ],
   "source": [
    "school_data = pd.read_csv(\"Resources/schools_complete.csv\")\n",
    "student_data = pd.read_csv(\"Resources/students_complete.csv\")\n",
    "log_file = pd.\n",
    "        \n",
    "school_data.head()\n",
    "\n",
    "print(\"Total number of unique schools\":)\n"
   ]
  },
  {
   "cell_type": "code",
   "execution_count": 54,
   "id": "d23200aa",
   "metadata": {},
   "outputs": [],
   "source": [
    "merge_data = pd.merge(school_data,student_data,how=\"left\",on=(\"school_name\",\"school_name\"))"
   ]
  },
  {
   "cell_type": "code",
   "execution_count": 45,
   "id": "5d845bef",
   "metadata": {},
   "outputs": [
    {
     "data": {
      "text/html": [
       "<div>\n",
       "<style scoped>\n",
       "    .dataframe tbody tr th:only-of-type {\n",
       "        vertical-align: middle;\n",
       "    }\n",
       "\n",
       "    .dataframe tbody tr th {\n",
       "        vertical-align: top;\n",
       "    }\n",
       "\n",
       "    .dataframe thead th {\n",
       "        text-align: right;\n",
       "    }\n",
       "</style>\n",
       "<table border=\"1\" class=\"dataframe\">\n",
       "  <thead>\n",
       "    <tr style=\"text-align: right;\">\n",
       "      <th></th>\n",
       "      <th>School ID</th>\n",
       "      <th>school_name</th>\n",
       "      <th>type</th>\n",
       "      <th>size</th>\n",
       "      <th>budget</th>\n",
       "      <th>Student ID</th>\n",
       "      <th>student_name</th>\n",
       "      <th>gender</th>\n",
       "      <th>grade</th>\n",
       "      <th>reading_score</th>\n",
       "      <th>math_score</th>\n",
       "    </tr>\n",
       "  </thead>\n",
       "  <tbody>\n",
       "    <tr>\n",
       "      <th>0</th>\n",
       "      <td>0</td>\n",
       "      <td>Huang High School</td>\n",
       "      <td>District</td>\n",
       "      <td>2917</td>\n",
       "      <td>1910635</td>\n",
       "      <td>0</td>\n",
       "      <td>Paul Bradley</td>\n",
       "      <td>M</td>\n",
       "      <td>9th</td>\n",
       "      <td>66</td>\n",
       "      <td>79</td>\n",
       "    </tr>\n",
       "    <tr>\n",
       "      <th>1</th>\n",
       "      <td>0</td>\n",
       "      <td>Huang High School</td>\n",
       "      <td>District</td>\n",
       "      <td>2917</td>\n",
       "      <td>1910635</td>\n",
       "      <td>1</td>\n",
       "      <td>Victor Smith</td>\n",
       "      <td>M</td>\n",
       "      <td>12th</td>\n",
       "      <td>94</td>\n",
       "      <td>61</td>\n",
       "    </tr>\n",
       "    <tr>\n",
       "      <th>2</th>\n",
       "      <td>0</td>\n",
       "      <td>Huang High School</td>\n",
       "      <td>District</td>\n",
       "      <td>2917</td>\n",
       "      <td>1910635</td>\n",
       "      <td>2</td>\n",
       "      <td>Kevin Rodriguez</td>\n",
       "      <td>M</td>\n",
       "      <td>12th</td>\n",
       "      <td>90</td>\n",
       "      <td>60</td>\n",
       "    </tr>\n",
       "    <tr>\n",
       "      <th>3</th>\n",
       "      <td>0</td>\n",
       "      <td>Huang High School</td>\n",
       "      <td>District</td>\n",
       "      <td>2917</td>\n",
       "      <td>1910635</td>\n",
       "      <td>3</td>\n",
       "      <td>Dr. Richard Scott</td>\n",
       "      <td>M</td>\n",
       "      <td>12th</td>\n",
       "      <td>67</td>\n",
       "      <td>58</td>\n",
       "    </tr>\n",
       "    <tr>\n",
       "      <th>4</th>\n",
       "      <td>0</td>\n",
       "      <td>Huang High School</td>\n",
       "      <td>District</td>\n",
       "      <td>2917</td>\n",
       "      <td>1910635</td>\n",
       "      <td>4</td>\n",
       "      <td>Bonnie Ray</td>\n",
       "      <td>F</td>\n",
       "      <td>9th</td>\n",
       "      <td>97</td>\n",
       "      <td>84</td>\n",
       "    </tr>\n",
       "    <tr>\n",
       "      <th>...</th>\n",
       "      <td>...</td>\n",
       "      <td>...</td>\n",
       "      <td>...</td>\n",
       "      <td>...</td>\n",
       "      <td>...</td>\n",
       "      <td>...</td>\n",
       "      <td>...</td>\n",
       "      <td>...</td>\n",
       "      <td>...</td>\n",
       "      <td>...</td>\n",
       "      <td>...</td>\n",
       "    </tr>\n",
       "    <tr>\n",
       "      <th>39165</th>\n",
       "      <td>14</td>\n",
       "      <td>Thomas High School</td>\n",
       "      <td>Charter</td>\n",
       "      <td>1635</td>\n",
       "      <td>1043130</td>\n",
       "      <td>39165</td>\n",
       "      <td>Donna Howard</td>\n",
       "      <td>F</td>\n",
       "      <td>12th</td>\n",
       "      <td>99</td>\n",
       "      <td>90</td>\n",
       "    </tr>\n",
       "    <tr>\n",
       "      <th>39166</th>\n",
       "      <td>14</td>\n",
       "      <td>Thomas High School</td>\n",
       "      <td>Charter</td>\n",
       "      <td>1635</td>\n",
       "      <td>1043130</td>\n",
       "      <td>39166</td>\n",
       "      <td>Dawn Bell</td>\n",
       "      <td>F</td>\n",
       "      <td>10th</td>\n",
       "      <td>95</td>\n",
       "      <td>70</td>\n",
       "    </tr>\n",
       "    <tr>\n",
       "      <th>39167</th>\n",
       "      <td>14</td>\n",
       "      <td>Thomas High School</td>\n",
       "      <td>Charter</td>\n",
       "      <td>1635</td>\n",
       "      <td>1043130</td>\n",
       "      <td>39167</td>\n",
       "      <td>Rebecca Tanner</td>\n",
       "      <td>F</td>\n",
       "      <td>9th</td>\n",
       "      <td>73</td>\n",
       "      <td>84</td>\n",
       "    </tr>\n",
       "    <tr>\n",
       "      <th>39168</th>\n",
       "      <td>14</td>\n",
       "      <td>Thomas High School</td>\n",
       "      <td>Charter</td>\n",
       "      <td>1635</td>\n",
       "      <td>1043130</td>\n",
       "      <td>39168</td>\n",
       "      <td>Desiree Kidd</td>\n",
       "      <td>F</td>\n",
       "      <td>10th</td>\n",
       "      <td>99</td>\n",
       "      <td>90</td>\n",
       "    </tr>\n",
       "    <tr>\n",
       "      <th>39169</th>\n",
       "      <td>14</td>\n",
       "      <td>Thomas High School</td>\n",
       "      <td>Charter</td>\n",
       "      <td>1635</td>\n",
       "      <td>1043130</td>\n",
       "      <td>39169</td>\n",
       "      <td>Carolyn Jackson</td>\n",
       "      <td>F</td>\n",
       "      <td>11th</td>\n",
       "      <td>95</td>\n",
       "      <td>75</td>\n",
       "    </tr>\n",
       "  </tbody>\n",
       "</table>\n",
       "<p>39170 rows × 11 columns</p>\n",
       "</div>"
      ],
      "text/plain": [
       "       School ID         school_name      type  size   budget  Student ID  \\\n",
       "0              0   Huang High School  District  2917  1910635           0   \n",
       "1              0   Huang High School  District  2917  1910635           1   \n",
       "2              0   Huang High School  District  2917  1910635           2   \n",
       "3              0   Huang High School  District  2917  1910635           3   \n",
       "4              0   Huang High School  District  2917  1910635           4   \n",
       "...          ...                 ...       ...   ...      ...         ...   \n",
       "39165         14  Thomas High School   Charter  1635  1043130       39165   \n",
       "39166         14  Thomas High School   Charter  1635  1043130       39166   \n",
       "39167         14  Thomas High School   Charter  1635  1043130       39167   \n",
       "39168         14  Thomas High School   Charter  1635  1043130       39168   \n",
       "39169         14  Thomas High School   Charter  1635  1043130       39169   \n",
       "\n",
       "            student_name gender grade  reading_score  math_score  \n",
       "0           Paul Bradley      M   9th             66          79  \n",
       "1           Victor Smith      M  12th             94          61  \n",
       "2        Kevin Rodriguez      M  12th             90          60  \n",
       "3      Dr. Richard Scott      M  12th             67          58  \n",
       "4             Bonnie Ray      F   9th             97          84  \n",
       "...                  ...    ...   ...            ...         ...  \n",
       "39165       Donna Howard      F  12th             99          90  \n",
       "39166          Dawn Bell      F  10th             95          70  \n",
       "39167     Rebecca Tanner      F   9th             73          84  \n",
       "39168       Desiree Kidd      F  10th             99          90  \n",
       "39169    Carolyn Jackson      F  11th             95          75  \n",
       "\n",
       "[39170 rows x 11 columns]"
      ]
     },
     "execution_count": 45,
     "metadata": {},
     "output_type": "execute_result"
    }
   ],
   "source": [
    "print\n"
   ]
  },
  {
   "cell_type": "code",
   "execution_count": 69,
   "id": "92f4ebd8",
   "metadata": {},
   "outputs": [
    {
     "name": "stdout",
     "output_type": "stream",
     "text": [
      "15\n"
     ]
    }
   ],
   "source": [
    "#School count \n",
    "len(merge_data.school_name.unique())\n",
    "\n",
    "  "
   ]
  },
  {
   "cell_type": "code",
   "execution_count": 86,
   "id": "6628be82",
   "metadata": {},
   "outputs": [
    {
     "data": {
      "text/plain": [
       "39170"
      ]
     },
     "execution_count": 86,
     "metadata": {},
     "output_type": "execute_result"
    }
   ],
   "source": [
    "# Calculate the total number of students\n",
    "student_count=merge_data.student_name.count()\n",
    "student_count\n"
   ]
  },
  {
   "cell_type": "code",
   "execution_count": 77,
   "id": "eb5cfb55",
   "metadata": {},
   "outputs": [
    {
     "data": {
      "text/plain": [
       "829323.29558"
      ]
     },
     "execution_count": 77,
     "metadata": {},
     "output_type": "execute_result"
    }
   ],
   "source": [
    "# Calculate the total budget\n",
    "sum(merge_data.budget)/100000"
   ]
  },
  {
   "cell_type": "code",
   "execution_count": 82,
   "id": "604823e3",
   "metadata": {},
   "outputs": [
    {
     "data": {
      "text/plain": [
       "78.98537145774827"
      ]
     },
     "execution_count": 82,
     "metadata": {},
     "output_type": "execute_result"
    }
   ],
   "source": [
    "#average_math_score = \n",
    "merge_data[\"math_score\"].mean()"
   ]
  },
  {
   "cell_type": "code",
   "execution_count": 83,
   "id": "a844ea6e",
   "metadata": {},
   "outputs": [
    {
     "data": {
      "text/plain": [
       "81.87784018381414"
      ]
     },
     "execution_count": 83,
     "metadata": {},
     "output_type": "execute_result"
    }
   ],
   "source": [
    "# Calculate the average (mean) reading score\n",
    "merge_data[\"reading_score\"].mean()"
   ]
  },
  {
   "cell_type": "code",
   "execution_count": 108,
   "id": "ace32ee2",
   "metadata": {},
   "outputs": [
    {
     "data": {
      "text/plain": [
       "School ID        29370\n",
       "school_name      29370\n",
       "type             29370\n",
       "size             29370\n",
       "budget           29370\n",
       "Student ID       29370\n",
       "student_name     29370\n",
       "gender           29370\n",
       "grade            29370\n",
       "reading_score    29370\n",
       "math_score       29370\n",
       "dtype: int64"
      ]
     },
     "execution_count": 108,
     "metadata": {},
     "output_type": "execute_result"
    }
   ],
   "source": [
    "merge_data[(merge_data[\"math_score\"] >= 70)].count()"
   ]
  },
  {
   "cell_type": "code",
   "execution_count": 115,
   "id": "756bc5e2",
   "metadata": {},
   "outputs": [
    {
     "data": {
      "text/plain": [
       "29370"
      ]
     },
     "execution_count": 115,
     "metadata": {},
     "output_type": "execute_result"
    }
   ],
   "source": [
    "merge_data[(merge_data.math_score >= 70)].count()[\"type\"]"
   ]
  },
  {
   "cell_type": "code",
   "execution_count": 116,
   "id": "e7c20975",
   "metadata": {},
   "outputs": [
    {
     "data": {
      "text/plain": [
       "100.0"
      ]
     },
     "execution_count": 116,
     "metadata": {},
     "output_type": "execute_result"
    }
   ],
   "source": [
    "# Use the following to calculate the percentage of students who passed math (math scores greather than or equal to 70)\n",
    "#passing_math_count = merge_data[(merge_data[\"math_score\"] >= 70)].count()[\"student_name\"]\n",
    "passing_math_count = (merge_data.math_score >= 70).count()\n",
    "passing_math_percentage = passing_math_count / float(student_count) * 100\n",
    "\n",
    "passing_math_percentage"
   ]
  },
  {
   "cell_type": "code",
   "execution_count": 103,
   "id": "01065d9e",
   "metadata": {},
   "outputs": [
    {
     "data": {
      "text/plain": [
       "85.80546336482001"
      ]
     },
     "execution_count": 103,
     "metadata": {},
     "output_type": "execute_result"
    }
   ],
   "source": [
    "# Calculate the percentage of students who passeed reading (hint: look at how the math percentage was calculated)  \n",
    "passing_reading_count = merge_data[(merge_data[\"reading_score\"] >= 70)].count()[\"student_name\"]\n",
    "passing_reading_percentage = passing_reading_count/float(student_count) * 100\n",
    "passing_reading_percentage"
   ]
  },
  {
   "cell_type": "code",
   "execution_count": 107,
   "id": "4d70bb88",
   "metadata": {},
   "outputs": [
    {
     "data": {
      "text/plain": [
       "School ID        25528\n",
       "school_name      25528\n",
       "type             25528\n",
       "size             25528\n",
       "budget           25528\n",
       "Student ID       25528\n",
       "student_name     25528\n",
       "gender           25528\n",
       "grade            25528\n",
       "reading_score    25528\n",
       "math_score       25528\n",
       "dtype: int64"
      ]
     },
     "execution_count": 107,
     "metadata": {},
     "output_type": "execute_result"
    }
   ],
   "source": [
    "merge_data[(merge_data[\"reading_score\"] >= 70) & (merge_data[\"math_score\"] >= 70)].count()"
   ]
  },
  {
   "cell_type": "code",
   "execution_count": 105,
   "id": "050de363",
   "metadata": {
    "scrolled": true
   },
   "outputs": [
    {
     "data": {
      "text/plain": [
       "65.17232575950983"
      ]
     },
     "execution_count": 105,
     "metadata": {},
     "output_type": "execute_result"
    }
   ],
   "source": [
    "# Use the following to calculate the percentage of students that passed math and reading\n",
    "passing_math_reading_count = merge_data[(merge_data[\"reading_score\"] >= 70) & (merge_data[\"math_score\"] >= 70)].count()[\"student_name\"]\n",
    "passing_reading_math_percentage = passing_math_reading_count/float(student_count) * 100\n",
    "passing_reading_math_percentage"
   ]
  },
  {
   "cell_type": "code",
   "execution_count": 118,
   "id": "15e17679",
   "metadata": {},
   "outputs": [
    {
     "ename": "NameError",
     "evalue": "name 'district_summary' is not defined",
     "output_type": "error",
     "traceback": [
      "\u001b[0;31m---------------------------------------------------------------------------\u001b[0m",
      "\u001b[0;31mNameError\u001b[0m                                 Traceback (most recent call last)",
      "\u001b[0;32m/var/folders/hk/gwsj784n0hs0cz0ftwlt3dyc0000gp/T/ipykernel_77326/2258360972.py\u001b[0m in \u001b[0;36m<module>\u001b[0;34m\u001b[0m\n\u001b[1;32m      3\u001b[0m \u001b[0;34m\u001b[0m\u001b[0m\n\u001b[1;32m      4\u001b[0m \u001b[0;31m# Formatting\u001b[0m\u001b[0;34m\u001b[0m\u001b[0;34m\u001b[0m\u001b[0m\n\u001b[0;32m----> 5\u001b[0;31m \u001b[0mdistrict_summary\u001b[0m\u001b[0;34m[\u001b[0m\u001b[0;34m\"Total Students\"\u001b[0m\u001b[0;34m]\u001b[0m \u001b[0;34m=\u001b[0m \u001b[0mdistrict_summary\u001b[0m\u001b[0;34m[\u001b[0m\u001b[0;34m\"Total Students\"\u001b[0m\u001b[0;34m]\u001b[0m\u001b[0;34m.\u001b[0m\u001b[0mmap\u001b[0m\u001b[0;34m(\u001b[0m\u001b[0;34m\"{:,}\"\u001b[0m\u001b[0;34m.\u001b[0m\u001b[0mformat\u001b[0m\u001b[0;34m)\u001b[0m\u001b[0;34m\u001b[0m\u001b[0;34m\u001b[0m\u001b[0m\n\u001b[0m\u001b[1;32m      6\u001b[0m \u001b[0mdistrict_summary\u001b[0m\u001b[0;34m[\u001b[0m\u001b[0;34m\"Total Budget\"\u001b[0m\u001b[0;34m]\u001b[0m \u001b[0;34m=\u001b[0m \u001b[0mdistrict_summary\u001b[0m\u001b[0;34m[\u001b[0m\u001b[0;34m\"Total Budget\"\u001b[0m\u001b[0;34m]\u001b[0m\u001b[0;34m.\u001b[0m\u001b[0mmap\u001b[0m\u001b[0;34m(\u001b[0m\u001b[0;34m\"${:,.2f}\"\u001b[0m\u001b[0;34m.\u001b[0m\u001b[0mformat\u001b[0m\u001b[0;34m)\u001b[0m\u001b[0;34m\u001b[0m\u001b[0;34m\u001b[0m\u001b[0m\n\u001b[1;32m      7\u001b[0m \u001b[0;34m\u001b[0m\u001b[0m\n",
      "\u001b[0;31mNameError\u001b[0m: name 'district_summary' is not defined"
     ]
    }
   ],
   "source": [
    "# Create a high-level snapshot of the district's key metrics in a DataFrame\n",
    "#district_summary = \n",
    "\n",
    "# Formatting\n",
    "district_summary[\"Total Students\"] = district_summary[\"Total Students\"].map(\"{:,f}\".format)\n",
    "district_summary[\"Total Budget\"] = district_summary[\"Total Budget\"].map(\"${:,.2f}\".format)\n",
    "\n",
    "# Display the DataFrame\n",
    "district_summary"
   ]
  },
  {
   "cell_type": "code",
   "execution_count": null,
   "id": "79bc4824",
   "metadata": {},
   "outputs": [],
   "source": []
  }
 ],
 "metadata": {
  "kernelspec": {
   "display_name": "Python 3 (ipykernel)",
   "language": "python",
   "name": "python3"
  },
  "language_info": {
   "codemirror_mode": {
    "name": "ipython",
    "version": 3
   },
   "file_extension": ".py",
   "mimetype": "text/x-python",
   "name": "python",
   "nbconvert_exporter": "python",
   "pygments_lexer": "ipython3",
   "version": "3.9.13"
  }
 },
 "nbformat": 4,
 "nbformat_minor": 5
}
